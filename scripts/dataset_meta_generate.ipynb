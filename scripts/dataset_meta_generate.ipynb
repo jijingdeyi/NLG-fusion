{
 "cells": [
  {
   "cell_type": "code",
   "execution_count": 2,
   "metadata": {},
   "outputs": [
    {
     "name": "stdout",
     "output_type": "stream",
     "text": [
      "train.txt 和 val.txt 文件已生成\n"
     ]
    }
   ],
   "source": [
    "import os\n",
    "import random\n",
    "\n",
    "# 数据集路径\n",
    "dataset_path = '/data/ykx/FMB/train/Visible'\n",
    "os.makedirs('/data/ykx/FMB/train/meta')\n",
    "\n",
    "# 获取数据集中所有图像文件的文件名\n",
    "image_files = [f for f in os.listdir(dataset_path) if os.path.isfile(os.path.join(dataset_path, f))]\n",
    "\n",
    "# 随机打乱文件列表\n",
    "random.shuffle(image_files)\n",
    "\n",
    "# 划分训练集和验证集，比例为8:2\n",
    "train_size = int(len(image_files) * 0.8)\n",
    "train_files = image_files[:train_size]\n",
    "val_files = image_files[train_size:]\n",
    "\n",
    "# 将文件名写入train.txt和val.txt\n",
    "with open('/data/ykx/FMB/train/meta/train.txt', 'w') as train_file:\n",
    "    for file_name in train_files:\n",
    "        train_file.write(file_name + '\\n')\n",
    "\n",
    "with open('/data/ykx/FMB/train/meta/val.txt', 'w') as val_file:\n",
    "    for file_name in val_files:\n",
    "        val_file.write(file_name + '\\n')\n",
    "\n",
    "print(\"train.txt 和 val.txt 文件已生成\")"
   ]
  },
  {
   "cell_type": "code",
   "execution_count": 3,
   "metadata": {},
   "outputs": [
    {
     "name": "stdout",
     "output_type": "stream",
     "text": [
      " test.txt 文件已生成\n"
     ]
    }
   ],
   "source": [
    "# 数据集路径\n",
    "dataset_path = '/data/ykx/FMB/test/Visible'\n",
    "os.makedirs('/data/ykx/FMB/test/meta')\n",
    "\n",
    "# 获取数据集中所有图像文件的文件名\n",
    "image_files = [f for f in os.listdir(dataset_path) if os.path.isfile(os.path.join(dataset_path, f))]\n",
    "\n",
    "# 将文件名写入train.txt和val.txt\n",
    "with open('/data/ykx/FMB/test/meta/pred.txt', 'w') as test_file:\n",
    "    for file_name in image_files:\n",
    "        test_file.write(file_name + '\\n')\n",
    "\n",
    "\n",
    "print(\" test.txt 文件已生成\")"
   ]
  },
  {
   "cell_type": "code",
   "execution_count": null,
   "metadata": {},
   "outputs": [],
   "source": []
  }
 ],
 "metadata": {
  "kernelspec": {
   "display_name": "reconet",
   "language": "python",
   "name": "python3"
  },
  "language_info": {
   "codemirror_mode": {
    "name": "ipython",
    "version": 3
   },
   "file_extension": ".py",
   "mimetype": "text/x-python",
   "name": "python",
   "nbconvert_exporter": "python",
   "pygments_lexer": "ipython3",
   "version": "3.10.0"
  }
 },
 "nbformat": 4,
 "nbformat_minor": 2
}
